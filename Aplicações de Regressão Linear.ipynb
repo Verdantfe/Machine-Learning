{
  "nbformat": 4,
  "nbformat_minor": 0,
  "metadata": {
    "colab": {
      "provenance": []
    },
    "kernelspec": {
      "name": "python3",
      "display_name": "Python 3"
    },
    "language_info": {
      "name": "python"
    }
  },
  "cells": [
    {
      "cell_type": "markdown",
      "source": [
        "# **Regressão Linear:**\n",
        "\n",
        "* EM CADA UM DOS TRÊS EXEMPLOS, FOi REALIZADO AS SEGUINTES TAREFAS:\n",
        "\n",
        "  1. **Importar as bibliotecas necessárias:** Similar ao exemplo fornecido.\n",
        "  2. **Preparar os dados**\n",
        "  3. **Dividir os dados em conjuntos de treinamento e teste:** Usando train_test_split.\n",
        "  4. **Treinar o modelo de regressão linear:** Usando os dados de treinamento.\n",
        "  5. **Fazer previsões**\n",
        "  6. **Avaliar o modelo:** Calcular as métricas MAE, MSE, RMSE, e R².\n",
        "  7. **Visualizar os resultados:** Crie gráficos para visualizar os dados e a linha de regressão."
      ],
      "metadata": {
        "id": "NGnkhXLqKZmF"
      }
    },
    {
      "cell_type": "markdown",
      "source": [
        "# Previsão de Vendas de Picolés com Base na Umidade\n",
        "\n",
        "* Cenário: Vamos considerar um cenário em que desejamos prever as vendas diárias de picolés com base na umidade relativa do ar (em %). Suponha que tenhamos alguns dados históricos que incluem registros diários de umidade (x) e vendas de picolés (y):\n",
        "\n",
        "Umidade (%) (x)|\tVendas de Picolés (y)\n",
        "-----------|-------------------------------\n",
        "30\t|10\n",
        "35\t|12\n",
        "45\t|18\n",
        "50\t|22\n",
        "55\t|25\n",
        "60\t|28\n",
        "65\t|32\n",
        "70\t|35\n",
        "75\t|38\n",
        "80\t|40\n",
        "85\t|42\n",
        "90\t|45\n"
      ],
      "metadata": {
        "id": "KYk1V7vxKctN"
      }
    },
    {
      "cell_type": "code",
      "source": [
        "import pandas as pd\n",
        "import matplotlib.pyplot as plt\n",
        "import numpy as np\n",
        "from sklearn.linear_model import LinearRegression\n",
        "from sklearn.metrics import mean_absolute_error, mean_squared_error, r2_score\n",
        "from sklearn.model_selection import train_test_split"
      ],
      "metadata": {
        "id": "mYie5D2dXr8I"
      },
      "execution_count": null,
      "outputs": []
    },
    {
      "cell_type": "code",
      "source": [
        "data = pd.DataFrame({\n",
        "    \"Umidade (%)\":               [15, 18, 20, 22, 25, 27, 30, 32, 35, 37, 40, 42],\n",
        "    \"Vendas de bebidas geladas\": [5, 8, 12, 15, 20, 25, 30, 35, 40, 45, 50, 55]\n",
        "\n",
        "})\n",
        "print(data)\n",
        "\n",
        "# dividindo em independentes (x) e dependentes (y)\n",
        "x = data[[\"Umidade (%)\"]]\n",
        "y = data[[\"Vendas de bebidas geladas\"]]"
      ],
      "metadata": {
        "colab": {
          "base_uri": "https://localhost:8080/"
        },
        "id": "CXkMe9FlYFHW",
        "outputId": "22e7e11f-0cfa-4935-cc66-e361b08c52f9"
      },
      "execution_count": null,
      "outputs": [
        {
          "output_type": "stream",
          "name": "stdout",
          "text": [
            "    Umidade (%)  Vendas de bebidas geladas\n",
            "0            15                          5\n",
            "1            18                          8\n",
            "2            20                         12\n",
            "3            22                         15\n",
            "4            25                         20\n",
            "5            27                         25\n",
            "6            30                         30\n",
            "7            32                         35\n",
            "8            35                         40\n",
            "9            37                         45\n",
            "10           40                         50\n",
            "11           42                         55\n"
          ]
        }
      ]
    },
    {
      "cell_type": "code",
      "source": [
        "x_train, x_test, y_train, y_test = train_test_split(x, y, test_size=0.2, random_state=3)"
      ],
      "metadata": {
        "id": "fXNwioq5aOBq"
      },
      "execution_count": null,
      "outputs": []
    },
    {
      "cell_type": "code",
      "source": [
        "# criando modelo de regressao linear\n",
        "modelo = LinearRegression()\n",
        "\n",
        "# treino\n",
        "modelo.fit(x_train, y_train)"
      ],
      "metadata": {
        "colab": {
          "base_uri": "https://localhost:8080/"
        },
        "id": "NDC9xvpsaR9G",
        "outputId": "83546ca2-9789-4a01-cc4a-abef51327ddc"
      },
      "execution_count": null,
      "outputs": [
        {
          "output_type": "execute_result",
          "data": {
            "text/plain": [
              "LinearRegression()"
            ],
            "text/html": [
              "<style>#sk-container-id-5 {color: black;}#sk-container-id-5 pre{padding: 0;}#sk-container-id-5 div.sk-toggleable {background-color: white;}#sk-container-id-5 label.sk-toggleable__label {cursor: pointer;display: block;width: 100%;margin-bottom: 0;padding: 0.3em;box-sizing: border-box;text-align: center;}#sk-container-id-5 label.sk-toggleable__label-arrow:before {content: \"▸\";float: left;margin-right: 0.25em;color: #696969;}#sk-container-id-5 label.sk-toggleable__label-arrow:hover:before {color: black;}#sk-container-id-5 div.sk-estimator:hover label.sk-toggleable__label-arrow:before {color: black;}#sk-container-id-5 div.sk-toggleable__content {max-height: 0;max-width: 0;overflow: hidden;text-align: left;background-color: #f0f8ff;}#sk-container-id-5 div.sk-toggleable__content pre {margin: 0.2em;color: black;border-radius: 0.25em;background-color: #f0f8ff;}#sk-container-id-5 input.sk-toggleable__control:checked~div.sk-toggleable__content {max-height: 200px;max-width: 100%;overflow: auto;}#sk-container-id-5 input.sk-toggleable__control:checked~label.sk-toggleable__label-arrow:before {content: \"▾\";}#sk-container-id-5 div.sk-estimator input.sk-toggleable__control:checked~label.sk-toggleable__label {background-color: #d4ebff;}#sk-container-id-5 div.sk-label input.sk-toggleable__control:checked~label.sk-toggleable__label {background-color: #d4ebff;}#sk-container-id-5 input.sk-hidden--visually {border: 0;clip: rect(1px 1px 1px 1px);clip: rect(1px, 1px, 1px, 1px);height: 1px;margin: -1px;overflow: hidden;padding: 0;position: absolute;width: 1px;}#sk-container-id-5 div.sk-estimator {font-family: monospace;background-color: #f0f8ff;border: 1px dotted black;border-radius: 0.25em;box-sizing: border-box;margin-bottom: 0.5em;}#sk-container-id-5 div.sk-estimator:hover {background-color: #d4ebff;}#sk-container-id-5 div.sk-parallel-item::after {content: \"\";width: 100%;border-bottom: 1px solid gray;flex-grow: 1;}#sk-container-id-5 div.sk-label:hover label.sk-toggleable__label {background-color: #d4ebff;}#sk-container-id-5 div.sk-serial::before {content: \"\";position: absolute;border-left: 1px solid gray;box-sizing: border-box;top: 0;bottom: 0;left: 50%;z-index: 0;}#sk-container-id-5 div.sk-serial {display: flex;flex-direction: column;align-items: center;background-color: white;padding-right: 0.2em;padding-left: 0.2em;position: relative;}#sk-container-id-5 div.sk-item {position: relative;z-index: 1;}#sk-container-id-5 div.sk-parallel {display: flex;align-items: stretch;justify-content: center;background-color: white;position: relative;}#sk-container-id-5 div.sk-item::before, #sk-container-id-5 div.sk-parallel-item::before {content: \"\";position: absolute;border-left: 1px solid gray;box-sizing: border-box;top: 0;bottom: 0;left: 50%;z-index: -1;}#sk-container-id-5 div.sk-parallel-item {display: flex;flex-direction: column;z-index: 1;position: relative;background-color: white;}#sk-container-id-5 div.sk-parallel-item:first-child::after {align-self: flex-end;width: 50%;}#sk-container-id-5 div.sk-parallel-item:last-child::after {align-self: flex-start;width: 50%;}#sk-container-id-5 div.sk-parallel-item:only-child::after {width: 0;}#sk-container-id-5 div.sk-dashed-wrapped {border: 1px dashed gray;margin: 0 0.4em 0.5em 0.4em;box-sizing: border-box;padding-bottom: 0.4em;background-color: white;}#sk-container-id-5 div.sk-label label {font-family: monospace;font-weight: bold;display: inline-block;line-height: 1.2em;}#sk-container-id-5 div.sk-label-container {text-align: center;}#sk-container-id-5 div.sk-container {/* jupyter's `normalize.less` sets `[hidden] { display: none; }` but bootstrap.min.css set `[hidden] { display: none !important; }` so we also need the `!important` here to be able to override the default hidden behavior on the sphinx rendered scikit-learn.org. See: https://github.com/scikit-learn/scikit-learn/issues/21755 */display: inline-block !important;position: relative;}#sk-container-id-5 div.sk-text-repr-fallback {display: none;}</style><div id=\"sk-container-id-5\" class=\"sk-top-container\"><div class=\"sk-text-repr-fallback\"><pre>LinearRegression()</pre><b>In a Jupyter environment, please rerun this cell to show the HTML representation or trust the notebook. <br />On GitHub, the HTML representation is unable to render, please try loading this page with nbviewer.org.</b></div><div class=\"sk-container\" hidden><div class=\"sk-item\"><div class=\"sk-estimator sk-toggleable\"><input class=\"sk-toggleable__control sk-hidden--visually\" id=\"sk-estimator-id-5\" type=\"checkbox\" checked><label for=\"sk-estimator-id-5\" class=\"sk-toggleable__label sk-toggleable__label-arrow\">LinearRegression</label><div class=\"sk-toggleable__content\"><pre>LinearRegression()</pre></div></div></div></div></div>"
            ]
          },
          "metadata": {},
          "execution_count": 57
        }
      ]
    },
    {
      "cell_type": "code",
      "source": [
        "# fazendo previsoes com os dados de validação\n",
        "y_pred = modelo.predict(x_test)\n",
        "print(y_pred)"
      ],
      "metadata": {
        "colab": {
          "base_uri": "https://localhost:8080/"
        },
        "id": "tI257BeSaXJA",
        "outputId": "4f52f4b2-b16a-4cdd-b1f4-c88485f2e0a1"
      },
      "execution_count": null,
      "outputs": [
        {
          "output_type": "stream",
          "name": "stdout",
          "text": [
            "[[25.62441315]\n",
            " [21.8657277 ]\n",
            " [ 8.71032864]]\n"
          ]
        }
      ]
    },
    {
      "cell_type": "code",
      "source": [
        "print(\"Umidade (x):\", x_test.values.flatten())\n",
        "print(\"Vendas Reais (y):\", y_test.values.flatten())\n",
        "print(\"Vendas Previstas (y_pred):\", y_pred.flatten())\n",
        "\n",
        "# Criar um DataFrame para comparação\n",
        "comparacao_df = pd.DataFrame({\n",
        "    'Umidade': x_test.values.flatten(),\n",
        "    'Venda Real': y_test.values.flatten(),\n",
        "    'Venda Prevista': y_pred.flatten()\n",
        "})\n",
        "print(comparacao_df)"
      ],
      "metadata": {
        "colab": {
          "base_uri": "https://localhost:8080/"
        },
        "id": "v_ScKJ5TcPjY",
        "outputId": "0ec01429-c9c4-4374-a197-f2af79443745"
      },
      "execution_count": null,
      "outputs": [
        {
          "output_type": "stream",
          "name": "stdout",
          "text": [
            "Umidade (x): [27 25 18]\n",
            "Vendas Reais (y): [25 20  8]\n",
            "Vendas Previstas (y_pred): [25.62441315 21.8657277   8.71032864]\n",
            "   Umidade  Venda Real  Venda Prevista\n",
            "0       27          25       25.624413\n",
            "1       25          20       21.865728\n",
            "2       18           8        8.710329\n"
          ]
        }
      ]
    },
    {
      "cell_type": "code",
      "source": [
        "mae = mean_absolute_error(y_test, y_pred)\n",
        "print(mae)\n",
        "\n",
        "# Criar um DataFrame para comparação\n",
        "comparacao_df = pd.DataFrame({\n",
        "    'Umidade': x_test.values.flatten(),\n",
        "    'Venda Real': y_test.values.flatten(),\n",
        "    'Venda Prevista': y_pred.flatten(),\n",
        "    'Diferença Absoluta': np.abs(y_test.values.flatten() - y_pred.flatten())\n",
        "})\n",
        "\n",
        "print(comparacao_df)"
      ],
      "metadata": {
        "colab": {
          "base_uri": "https://localhost:8080/"
        },
        "id": "5MFaAkI2azkN",
        "outputId": "f4ae421a-83f1-45f5-d67e-23996d7f9e42"
      },
      "execution_count": null,
      "outputs": [
        {
          "output_type": "stream",
          "name": "stdout",
          "text": [
            "1.0668231611893606\n",
            "   Umidade  Venda Real  Venda Prevista  Diferença Absoluta\n",
            "0       27          25       25.624413            0.624413\n",
            "1       25          20       21.865728            1.865728\n",
            "2       18           8        8.710329            0.710329\n"
          ]
        }
      ]
    },
    {
      "cell_type": "code",
      "source": [
        "mse = mean_squared_error(y_test, y_pred)\n",
        "print(mse)\n",
        "\n",
        "\n",
        "# Criar um DataFrame para comparação\n",
        "comparacao_df = pd.DataFrame({\n",
        "    'Umidade': x_test.values.flatten(),\n",
        "    'Venda Real': y_test.values.flatten(),\n",
        "    'Venda Prevista': y_pred.flatten(),\n",
        "    'Diferença Absoluta': np.abs(y_test.values.flatten() - y_pred.flatten()),\n",
        "    'Erro Quadrático': (y_test.values.flatten() - y_pred.flatten())**2\n",
        "})\n",
        "\n",
        "print(comparacao_df)"
      ],
      "metadata": {
        "colab": {
          "base_uri": "https://localhost:8080/"
        },
        "id": "PDUXKVJBazBY",
        "outputId": "4e55827b-b411-470a-ec11-dcf8b9cbdbea"
      },
      "execution_count": null,
      "outputs": [
        {
          "output_type": "stream",
          "name": "stdout",
          "text": [
            "1.4584661332628066\n",
            "   Umidade  Venda Real  Venda Prevista  Diferença Absoluta  Erro Quadrático\n",
            "0       27          25       25.624413            0.624413         0.389892\n",
            "1       25          20       21.865728            1.865728         3.480940\n",
            "2       18           8        8.710329            0.710329         0.504567\n"
          ]
        }
      ]
    },
    {
      "cell_type": "code",
      "source": [
        "# coeficiente de determinação vai de 0 a 1, quanto mais proximo de 1 for melhor!\n",
        "r2 = r2_score(y_test, y_pred)\n",
        "print(r2)"
      ],
      "metadata": {
        "colab": {
          "base_uri": "https://localhost:8080/"
        },
        "id": "37nII0xQayyV",
        "outputId": "e0e4cdb2-7032-4b0e-a6f1-b763d3426555"
      },
      "execution_count": null,
      "outputs": [
        {
          "output_type": "stream",
          "name": "stdout",
          "text": [
            "0.9713401851542244\n"
          ]
        }
      ]
    },
    {
      "cell_type": "code",
      "source": [
        "# Plotando os dados de treinamento\n",
        "plt.scatter(x_train, y_train, color='blue', label='Dados de Treinamento')\n",
        "plt.plot(x_train, modelo.predict(x_train), color='red', label='Linha de Regressão')\n",
        "\n",
        "# Plotando os dados de validação e as previsões\n",
        "plt.scatter(x_test, y_test, color='green', label='Dados de Validação')\n",
        "plt.scatter(x_test, y_pred, color='orange', label='Previsões')\n",
        "\n",
        "plt.xlabel('Umidade')\n",
        "plt.ylabel('Vendas de Sorvete')\n",
        "plt.title('Regressão Linear: Umidade vs Vendas de Sorvete')\n",
        "plt.legend()\n",
        "plt.show()\n"
      ],
      "metadata": {
        "colab": {
          "base_uri": "https://localhost:8080/"
        },
        "id": "Yry9JU5Raypm",
        "outputId": "f41b164e-2805-4d6b-83a7-1b0b79516979"
      },
      "execution_count": null,
      "outputs": [
        {
          "output_type": "display_data",
          "data": {
            "text/plain": [
              "<Figure size 640x480 with 1 Axes>"
            ],
            "image/png": "[encoded data removed]"
          },
          "metadata": {}
        }
      ]
    },
    {
      "cell_type": "markdown",
      "source": [
        "# Previsão de Vendas de Bebidas Geladas com Base na Temperatura\n",
        "\n",
        "* Cenário: Agora vamos considerar um cenário em que desejamos prever as vendas diárias de bebidas geladas com base na temperatura ambiente (em graus Celsius). Suponha que tenhamos alguns dados históricos que incluem registros diários de temperatura (x) e vendas de bebidas geladas (y):\n",
        "\n",
        "Temperatura (°C) (x)\t|Vendas de Bebidas Geladas (y)\n",
        "--------------------------|------------------------\n",
        "15\t|5\n",
        "18\t|8\n",
        "20\t|12\n",
        "22\t|15\n",
        "25\t|20\n",
        "27\t|25\n",
        "30\t|30\n",
        "32\t|35\n",
        "35\t|40\n",
        "37\t|45\n",
        "40\t|50\n",
        "42\t|55\n"
      ],
      "metadata": {
        "id": "WbwoAxKqKqe6"
      }
    },
    {
      "cell_type": "code",
      "source": [
        "data2 = pd.DataFrame({\n",
        "    \"Temperatura (°C)\":          [15, 18, 20, 22, 25, 27, 30, 32, 35, 37, 40, 42],\n",
        "    \"Vendas de bebidas geladas\": [ 5, 8, 12, 15, 20, 25, 30, 35, 40, 45, 50, 55]\n",
        "\n",
        "})\n",
        "print(data2)\n",
        "\n",
        "# dividindo em independentes (x) e dependentes (y)\n",
        "x2 = data2[[\"Temperatura (°C)\"]]\n",
        "y2 = data2[[\"Vendas de bebidas geladas\"]]"
      ],
      "metadata": {
        "colab": {
          "base_uri": "https://localhost:8080/"
        },
        "id": "zZBapO1C3LcZ",
        "outputId": "f85bc652-2eed-4548-decc-b89e2fa03c3b"
      },
      "execution_count": null,
      "outputs": [
        {
          "output_type": "stream",
          "name": "stdout",
          "text": [
            "    Temperatura (°C)  Vendas de bebidas geladas\n",
            "0                 15                          5\n",
            "1                 18                          8\n",
            "2                 20                         12\n",
            "3                 22                         15\n",
            "4                 25                         20\n",
            "5                 27                         25\n",
            "6                 30                         30\n",
            "7                 32                         35\n",
            "8                 35                         40\n",
            "9                 37                         45\n",
            "10                40                         50\n",
            "11                42                         55\n"
          ]
        }
      ]
    },
    {
      "cell_type": "code",
      "source": [
        "x_train2, x_test2, y_train2, y_test2 = train_test_split(x2, y2, test_size=0.2, random_state=3)"
      ],
      "metadata": {
        "id": "r-BwxZjJ3LW4"
      },
      "execution_count": null,
      "outputs": []
    },
    {
      "cell_type": "code",
      "source": [
        "# criando modelo de regressao linear\n",
        "modelo = LinearRegression()\n",
        "\n",
        "# treino\n",
        "modelo.fit(x_train2, y_train2)"
      ],
      "metadata": {
        "colab": {
          "base_uri": "https://localhost:8080/",
          "height": 75
        },
        "id": "3BRb945S3LRd",
        "outputId": "2e0d2aff-58d1-4e48-ace1-33ea45801482"
      },
      "execution_count": null,
      "outputs": [
        {
          "output_type": "execute_result",
          "data": {
            "text/plain": [
              "LinearRegression()"
            ],
            "text/html": [
              "<style>#sk-container-id-6 {color: black;}#sk-container-id-6 pre{padding: 0;}#sk-container-id-6 div.sk-toggleable {background-color: white;}#sk-container-id-6 label.sk-toggleable__label {cursor: pointer;display: block;width: 100%;margin-bottom: 0;padding: 0.3em;box-sizing: border-box;text-align: center;}#sk-container-id-6 label.sk-toggleable__label-arrow:before {content: \"▸\";float: left;margin-right: 0.25em;color: #696969;}#sk-container-id-6 label.sk-toggleable__label-arrow:hover:before {color: black;}#sk-container-id-6 div.sk-estimator:hover label.sk-toggleable__label-arrow:before {color: black;}#sk-container-id-6 div.sk-toggleable__content {max-height: 0;max-width: 0;overflow: hidden;text-align: left;background-color: #f0f8ff;}#sk-container-id-6 div.sk-toggleable__content pre {margin: 0.2em;color: black;border-radius: 0.25em;background-color: #f0f8ff;}#sk-container-id-6 input.sk-toggleable__control:checked~div.sk-toggleable__content {max-height: 200px;max-width: 100%;overflow: auto;}#sk-container-id-6 input.sk-toggleable__control:checked~label.sk-toggleable__label-arrow:before {content: \"▾\";}#sk-container-id-6 div.sk-estimator input.sk-toggleable__control:checked~label.sk-toggleable__label {background-color: #d4ebff;}#sk-container-id-6 div.sk-label input.sk-toggleable__control:checked~label.sk-toggleable__label {background-color: #d4ebff;}#sk-container-id-6 input.sk-hidden--visually {border: 0;clip: rect(1px 1px 1px 1px);clip: rect(1px, 1px, 1px, 1px);height: 1px;margin: -1px;overflow: hidden;padding: 0;position: absolute;width: 1px;}#sk-container-id-6 div.sk-estimator {font-family: monospace;background-color: #f0f8ff;border: 1px dotted black;border-radius: 0.25em;box-sizing: border-box;margin-bottom: 0.5em;}#sk-container-id-6 div.sk-estimator:hover {background-color: #d4ebff;}#sk-container-id-6 div.sk-parallel-item::after {content: \"\";width: 100%;border-bottom: 1px solid gray;flex-grow: 1;}#sk-container-id-6 div.sk-label:hover label.sk-toggleable__label {background-color: #d4ebff;}#sk-container-id-6 div.sk-serial::before {content: \"\";position: absolute;border-left: 1px solid gray;box-sizing: border-box;top: 0;bottom: 0;left: 50%;z-index: 0;}#sk-container-id-6 div.sk-serial {display: flex;flex-direction: column;align-items: center;background-color: white;padding-right: 0.2em;padding-left: 0.2em;position: relative;}#sk-container-id-6 div.sk-item {position: relative;z-index: 1;}#sk-container-id-6 div.sk-parallel {display: flex;align-items: stretch;justify-content: center;background-color: white;position: relative;}#sk-container-id-6 div.sk-item::before, #sk-container-id-6 div.sk-parallel-item::before {content: \"\";position: absolute;border-left: 1px solid gray;box-sizing: border-box;top: 0;bottom: 0;left: 50%;z-index: -1;}#sk-container-id-6 div.sk-parallel-item {display: flex;flex-direction: column;z-index: 1;position: relative;background-color: white;}#sk-container-id-6 div.sk-parallel-item:first-child::after {align-self: flex-end;width: 50%;}#sk-container-id-6 div.sk-parallel-item:last-child::after {align-self: flex-start;width: 50%;}#sk-container-id-6 div.sk-parallel-item:only-child::after {width: 0;}#sk-container-id-6 div.sk-dashed-wrapped {border: 1px dashed gray;margin: 0 0.4em 0.5em 0.4em;box-sizing: border-box;padding-bottom: 0.4em;background-color: white;}#sk-container-id-6 div.sk-label label {font-family: monospace;font-weight: bold;display: inline-block;line-height: 1.2em;}#sk-container-id-6 div.sk-label-container {text-align: center;}#sk-container-id-6 div.sk-container {/* jupyter's `normalize.less` sets `[hidden] { display: none; }` but bootstrap.min.css set `[hidden] { display: none !important; }` so we also need the `!important` here to be able to override the default hidden behavior on the sphinx rendered scikit-learn.org. See: https://github.com/scikit-learn/scikit-learn/issues/21755 */display: inline-block !important;position: relative;}#sk-container-id-6 div.sk-text-repr-fallback {display: none;}</style><div id=\"sk-container-id-6\" class=\"sk-top-container\"><div class=\"sk-text-repr-fallback\"><pre>LinearRegression()</pre><b>In a Jupyter environment, please rerun this cell to show the HTML representation or trust the notebook. <br />On GitHub, the HTML representation is unable to render, please try loading this page with nbviewer.org.</b></div><div class=\"sk-container\" hidden><div class=\"sk-item\"><div class=\"sk-estimator sk-toggleable\"><input class=\"sk-toggleable__control sk-hidden--visually\" id=\"sk-estimator-id-6\" type=\"checkbox\" checked><label for=\"sk-estimator-id-6\" class=\"sk-toggleable__label sk-toggleable__label-arrow\">LinearRegression</label><div class=\"sk-toggleable__content\"><pre>LinearRegression()</pre></div></div></div></div></div>"
            ]
          },
          "metadata": {},
          "execution_count": 66
        }
      ]
    },
    {
      "cell_type": "code",
      "source": [
        "# fazendo previsoes com os dados de validação\n",
        "y_pred2 = modelo.predict(x_test2)\n",
        "print(y_pred2)"
      ],
      "metadata": {
        "colab": {
          "base_uri": "https://localhost:8080/"
        },
        "id": "scJTdVtu3LIq",
        "outputId": "c851a0bb-e18f-478b-aa94-145672e5942f"
      },
      "execution_count": null,
      "outputs": [
        {
          "output_type": "stream",
          "name": "stdout",
          "text": [
            "[[25.62441315]\n",
            " [21.8657277 ]\n",
            " [ 8.71032864]]\n"
          ]
        }
      ]
    },
    {
      "cell_type": "code",
      "source": [
        "print(\"Temperatura (x):\", x_test2.values.flatten())\n",
        "print(\"Vendas Reais (y):\", y_test2.values.flatten())\n",
        "print(\"Vendas Previstas (y_pred2):\", y_pred2.flatten())\n",
        "\n",
        "# Criar um DataFrame para comparação\n",
        "comparacao_df_2 = pd.DataFrame({\n",
        "    'Temperatura (°C)': x_test2.values.flatten(),\n",
        "    'Venda Real': y_test2.values.flatten(),\n",
        "    'Venda Prevista': y_pred2.flatten()\n",
        "})\n",
        "print(comparacao_df_2)"
      ],
      "metadata": {
        "colab": {
          "base_uri": "https://localhost:8080/"
        },
        "id": "yn5FajCp3K7O",
        "outputId": "3c2f8fd3-6942-4fb6-f6d1-47d17b4023f9"
      },
      "execution_count": null,
      "outputs": [
        {
          "output_type": "stream",
          "name": "stdout",
          "text": [
            "Temperatura (x): [27 25 18]\n",
            "Vendas Reais (y): [25 20  8]\n",
            "Vendas Previstas (y_pred2): [25.62441315 21.8657277   8.71032864]\n",
            "   Temperatura (°C)  Venda Real  Venda Prevista\n",
            "0                27          25       25.624413\n",
            "1                25          20       21.865728\n",
            "2                18           8        8.710329\n"
          ]
        }
      ]
    },
    {
      "cell_type": "code",
      "source": [
        "mae2 = mean_absolute_error(y_test2, y_pred2)\n",
        "print(mae2)\n",
        "\n",
        "# Criar um DataFrame para comparação\n",
        "comparacao_df_2 = pd.DataFrame({\n",
        "    'Temperatura': x_test2.values.flatten(),\n",
        "    'Venda Real': y_test2.values.flatten(),\n",
        "    'Venda Prevista': y_pred2.flatten(),\n",
        "    'Diferença Absoluta': np.abs(y_test2.values.flatten() - y_pred2.flatten())\n",
        "})\n",
        "\n",
        "print(comparacao_df_2)"
      ],
      "metadata": {
        "colab": {
          "base_uri": "https://localhost:8080/"
        },
        "id": "lgqJAxRf3Kx5",
        "outputId": "31b18f16-3668-4e1a-d4c2-fb9faaea0ca2"
      },
      "execution_count": null,
      "outputs": [
        {
          "output_type": "stream",
          "name": "stdout",
          "text": [
            "1.0668231611893606\n",
            "   Temperatura  Venda Real  Venda Prevista  Diferença Absoluta\n",
            "0           27          25       25.624413            0.624413\n",
            "1           25          20       21.865728            1.865728\n",
            "2           18           8        8.710329            0.710329\n"
          ]
        }
      ]
    },
    {
      "cell_type": "code",
      "source": [
        "mse2 = mean_squared_error(y_test2, y_pred2)\n",
        "print(mse2)\n",
        "\n",
        "\n",
        "# Criar um DataFrame para comparação\n",
        "comparacao_df_2 = pd.DataFrame({\n",
        "    'Temperatura': x_test2.values.flatten(),\n",
        "    'Venda Real': y_test2.values.flatten(),\n",
        "    'Venda Prevista': y_pred2.flatten(),\n",
        "    'Diferença Absoluta': np.abs(y_test2.values.flatten() - y_pred2.flatten()),\n",
        "    'Erro Quadrático': (y_test2.values.flatten() - y_pred2.flatten())**2\n",
        "})\n",
        "\n",
        "print(comparacao_df_2)"
      ],
      "metadata": {
        "colab": {
          "base_uri": "https://localhost:8080/"
        },
        "id": "DLOPU0jU3Kra",
        "outputId": "21083757-b0db-4125-b28e-f3dabde5ad91"
      },
      "execution_count": null,
      "outputs": [
        {
          "output_type": "stream",
          "name": "stdout",
          "text": [
            "1.4584661332628066\n",
            "   Temperatura  Venda Real  Venda Prevista  Diferença Absoluta  \\\n",
            "0           27          25       25.624413            0.624413   \n",
            "1           25          20       21.865728            1.865728   \n",
            "2           18           8        8.710329            0.710329   \n",
            "\n",
            "   Erro Quadrático  \n",
            "0         0.389892  \n",
            "1         3.480940  \n",
            "2         0.504567  \n"
          ]
        }
      ]
    },
    {
      "cell_type": "code",
      "source": [
        "# coeficiente de determinação vai de 0 a 1, quanto mais proximo de 1 for melhor!\n",
        "r2_2 = r2_score(y_test2, y_pred2)\n",
        "print(r2_2)"
      ],
      "metadata": {
        "colab": {
          "base_uri": "https://localhost:8080/"
        },
        "id": "g_tr9H7_3Klx",
        "outputId": "3d0e8e9b-0a6a-4731-eebf-6b7eec918b3d"
      },
      "execution_count": null,
      "outputs": [
        {
          "output_type": "stream",
          "name": "stdout",
          "text": [
            "0.9713401851542244\n"
          ]
        }
      ]
    },
    {
      "cell_type": "code",
      "source": [
        "# Plotando os dados de treinamento\n",
        "plt.scatter(x_train2, y_train2, color='blue', label='Dados de Treinamento')\n",
        "plt.plot(x_train2, modelo.predict(x_train2), color='red', label='Linha de Regressão')\n",
        "\n",
        "# Plotando os dados de validação e as previsões\n",
        "plt.scatter(x_test2, y_test2, color='green', label='Dados de Validação')\n",
        "plt.scatter(x_test2, y_pred2, color='orange', label='Previsões')\n",
        "\n",
        "plt.xlabel('Temperatura')\n",
        "plt.ylabel('Vendas de Sorvete')\n",
        "plt.title('Regressão Linear: Temperatura vs Vendas de Sorvete')\n",
        "plt.legend()\n",
        "plt.show()"
      ],
      "metadata": {
        "colab": {
          "base_uri": "https://localhost:8080/",
          "height": 472
        },
        "id": "K8odumn83Kfe",
        "outputId": "ced5dc5b-f057-408e-8641-e9f12c5748c4"
      },
      "execution_count": null,
      "outputs": [
        {
          "output_type": "display_data",
          "data": {
            "text/plain": [
              "<Figure size 640x480 with 1 Axes>"
            ],
            "image/png": "[encoded data removed]"
          },
          "metadata": {}
        }
      ]
    },
    {
      "cell_type": "markdown",
      "source": [
        "# Previsão de Vendas de Chapéus de Praia com Base na Intensidade Solar\n",
        "\n",
        "* Cenário: Neste cenário, queremos prever as vendas diárias de chapéus de praia com base na intensidade solar (medida em W/m²). Suponha que tenhamos dados históricos que incluem registros diários de intensidade solar (x) e vendas de chapéus de praia (y):\n",
        "\n",
        "Intensidade Solar (W/m²) (x)\t| Vendas de Chapéus (y)\n",
        "------------------------------|---------------------\n",
        "150\t|10\n",
        "200\t|12\n",
        "250\t|15\n",
        "300\t|18\n",
        "350\t|20\n",
        "400\t|22\n",
        "450\t|25\n",
        "500\t|28\n",
        "550\t|30\n",
        "600\t|32\n",
        "650\t|35\n",
        "700\t|38\n",
        "750\t|40\n",
        "800\t|42\n",
        "850\t|45\n",
        "900\t|48\n",
        "950\t|50\n",
        "1000\t|52\n",
        "1050\t|55\n",
        "1100\t|58\n",
        "1150\t|60\n",
        "1200\t|63\n",
        "1250\t|65\n",
        "1300\t|68"
      ],
      "metadata": {
        "id": "r0z-oCQwLZqF"
      }
    },
    {
      "cell_type": "code",
      "source": [
        "data3 = pd.DataFrame({\n",
        "    \"Intensidade Solar (W/m²)\": [150, 200, 250, 300, 350, 400, 450, 500, 550, 600, 650, 700, 750, 800, 850, 900, 950, 1000, 1050, 1000, 1150, 1200, 1250, 1300],\n",
        "    \"Vendas de chapéus\":        [10,  12,  15,  18, 20,  22,  25, 28, 30, 32, 25, 38, 40, 42, 45, 48, 50, 52, 55, 58, 60, 63, 65, 68]\n",
        "\n",
        "})\n",
        "print(data3)\n",
        "\n",
        "# dividindo em independentes (x) e dependentes (y)\n",
        "x3 = data3[[\"Intensidade Solar (W/m²)\"]]\n",
        "y3 = data3[[\"Vendas de chapéus\"]]"
      ],
      "metadata": {
        "colab": {
          "base_uri": "https://localhost:8080/"
        },
        "id": "bh4_lHBFbDyM",
        "outputId": "7b831035-fd4b-44d6-ed3c-26bccef27697"
      },
      "execution_count": null,
      "outputs": [
        {
          "output_type": "stream",
          "name": "stdout",
          "text": [
            "    Intensidade Solar (W/m²)  Vendas de chapéus\n",
            "0                        150                 10\n",
            "1                        200                 12\n",
            "2                        250                 15\n",
            "3                        300                 18\n",
            "4                        350                 20\n",
            "5                        400                 22\n",
            "6                        450                 25\n",
            "7                        500                 28\n",
            "8                        550                 30\n",
            "9                        600                 32\n",
            "10                       650                 25\n",
            "11                       700                 38\n",
            "12                       750                 40\n",
            "13                       800                 42\n",
            "14                       850                 45\n",
            "15                       900                 48\n",
            "16                       950                 50\n",
            "17                      1000                 52\n",
            "18                      1050                 55\n",
            "19                      1000                 58\n",
            "20                      1150                 60\n",
            "21                      1200                 63\n",
            "22                      1250                 65\n",
            "23                      1300                 68\n"
          ]
        }
      ]
    },
    {
      "cell_type": "code",
      "source": [
        "x_train3, x_test3, y_train3, y_test3 = train_test_split(x3, y3, test_size=0.2, random_state=3)"
      ],
      "metadata": {
        "id": "58wC9YvTbDwM"
      },
      "execution_count": null,
      "outputs": []
    },
    {
      "cell_type": "code",
      "source": [
        "# criando modelo de regressao linear\n",
        "modelo = LinearRegression()\n",
        "\n",
        "# treino\n",
        "modelo.fit(x_train3, y_train3)"
      ],
      "metadata": {
        "colab": {
          "base_uri": "https://localhost:8080/",
          "height": 75
        },
        "id": "JJ_qX9jObDt4",
        "outputId": "e6745d02-aac8-4933-924d-682cf89bae83"
      },
      "execution_count": null,
      "outputs": [
        {
          "output_type": "execute_result",
          "data": {
            "text/plain": [
              "LinearRegression()"
            ],
            "text/html": [
              "<style>#sk-container-id-7 {color: black;}#sk-container-id-7 pre{padding: 0;}#sk-container-id-7 div.sk-toggleable {background-color: white;}#sk-container-id-7 label.sk-toggleable__label {cursor: pointer;display: block;width: 100%;margin-bottom: 0;padding: 0.3em;box-sizing: border-box;text-align: center;}#sk-container-id-7 label.sk-toggleable__label-arrow:before {content: \"▸\";float: left;margin-right: 0.25em;color: #696969;}#sk-container-id-7 label.sk-toggleable__label-arrow:hover:before {color: black;}#sk-container-id-7 div.sk-estimator:hover label.sk-toggleable__label-arrow:before {color: black;}#sk-container-id-7 div.sk-toggleable__content {max-height: 0;max-width: 0;overflow: hidden;text-align: left;background-color: #f0f8ff;}#sk-container-id-7 div.sk-toggleable__content pre {margin: 0.2em;color: black;border-radius: 0.25em;background-color: #f0f8ff;}#sk-container-id-7 input.sk-toggleable__control:checked~div.sk-toggleable__content {max-height: 200px;max-width: 100%;overflow: auto;}#sk-container-id-7 input.sk-toggleable__control:checked~label.sk-toggleable__label-arrow:before {content: \"▾\";}#sk-container-id-7 div.sk-estimator input.sk-toggleable__control:checked~label.sk-toggleable__label {background-color: #d4ebff;}#sk-container-id-7 div.sk-label input.sk-toggleable__control:checked~label.sk-toggleable__label {background-color: #d4ebff;}#sk-container-id-7 input.sk-hidden--visually {border: 0;clip: rect(1px 1px 1px 1px);clip: rect(1px, 1px, 1px, 1px);height: 1px;margin: -1px;overflow: hidden;padding: 0;position: absolute;width: 1px;}#sk-container-id-7 div.sk-estimator {font-family: monospace;background-color: #f0f8ff;border: 1px dotted black;border-radius: 0.25em;box-sizing: border-box;margin-bottom: 0.5em;}#sk-container-id-7 div.sk-estimator:hover {background-color: #d4ebff;}#sk-container-id-7 div.sk-parallel-item::after {content: \"\";width: 100%;border-bottom: 1px solid gray;flex-grow: 1;}#sk-container-id-7 div.sk-label:hover label.sk-toggleable__label {background-color: #d4ebff;}#sk-container-id-7 div.sk-serial::before {content: \"\";position: absolute;border-left: 1px solid gray;box-sizing: border-box;top: 0;bottom: 0;left: 50%;z-index: 0;}#sk-container-id-7 div.sk-serial {display: flex;flex-direction: column;align-items: center;background-color: white;padding-right: 0.2em;padding-left: 0.2em;position: relative;}#sk-container-id-7 div.sk-item {position: relative;z-index: 1;}#sk-container-id-7 div.sk-parallel {display: flex;align-items: stretch;justify-content: center;background-color: white;position: relative;}#sk-container-id-7 div.sk-item::before, #sk-container-id-7 div.sk-parallel-item::before {content: \"\";position: absolute;border-left: 1px solid gray;box-sizing: border-box;top: 0;bottom: 0;left: 50%;z-index: -1;}#sk-container-id-7 div.sk-parallel-item {display: flex;flex-direction: column;z-index: 1;position: relative;background-color: white;}#sk-container-id-7 div.sk-parallel-item:first-child::after {align-self: flex-end;width: 50%;}#sk-container-id-7 div.sk-parallel-item:last-child::after {align-self: flex-start;width: 50%;}#sk-container-id-7 div.sk-parallel-item:only-child::after {width: 0;}#sk-container-id-7 div.sk-dashed-wrapped {border: 1px dashed gray;margin: 0 0.4em 0.5em 0.4em;box-sizing: border-box;padding-bottom: 0.4em;background-color: white;}#sk-container-id-7 div.sk-label label {font-family: monospace;font-weight: bold;display: inline-block;line-height: 1.2em;}#sk-container-id-7 div.sk-label-container {text-align: center;}#sk-container-id-7 div.sk-container {/* jupyter's `normalize.less` sets `[hidden] { display: none; }` but bootstrap.min.css set `[hidden] { display: none !important; }` so we also need the `!important` here to be able to override the default hidden behavior on the sphinx rendered scikit-learn.org. See: https://github.com/scikit-learn/scikit-learn/issues/21755 */display: inline-block !important;position: relative;}#sk-container-id-7 div.sk-text-repr-fallback {display: none;}</style><div id=\"sk-container-id-7\" class=\"sk-top-container\"><div class=\"sk-text-repr-fallback\"><pre>LinearRegression()</pre><b>In a Jupyter environment, please rerun this cell to show the HTML representation or trust the notebook. <br />On GitHub, the HTML representation is unable to render, please try loading this page with nbviewer.org.</b></div><div class=\"sk-container\" hidden><div class=\"sk-item\"><div class=\"sk-estimator sk-toggleable\"><input class=\"sk-toggleable__control sk-hidden--visually\" id=\"sk-estimator-id-7\" type=\"checkbox\" checked><label for=\"sk-estimator-id-7\" class=\"sk-toggleable__label sk-toggleable__label-arrow\">LinearRegression</label><div class=\"sk-toggleable__content\"><pre>LinearRegression()</pre></div></div></div></div></div>"
            ]
          },
          "metadata": {},
          "execution_count": 78
        }
      ]
    },
    {
      "cell_type": "code",
      "source": [
        "# fazendo previsoes com os dados de validação\n",
        "y_pred3 = modelo.predict(x_test3)\n",
        "print(y_pred3)"
      ],
      "metadata": {
        "colab": {
          "base_uri": "https://localhost:8080/"
        },
        "id": "WB3F4MfGbDru",
        "outputId": "aace84f0-1ec4-41d7-8c41-df61f74db554"
      },
      "execution_count": null,
      "outputs": [
        {
          "output_type": "stream",
          "name": "stdout",
          "text": [
            "[[65.4570784 ]\n",
            " [39.89080654]\n",
            " [52.67394247]\n",
            " [47.5606881 ]\n",
            " [45.00406091]]\n"
          ]
        }
      ]
    },
    {
      "cell_type": "code",
      "source": [
        "print(\"Intensidade Solar (W/m²) (x):\", x_test3.values.flatten())\n",
        "print(\"Vendas Reais (y):\", y_test3.values.flatten())\n",
        "print(\"Vendas Previstas (y_pred3):\", y_pred3.flatten())\n",
        "\n",
        "# Criar um DataFrame para comparação\n",
        "comparacao_df_3 = pd.DataFrame({\n",
        "    'Intensidade Solar (W/m²)': x_test3.values.flatten(),\n",
        "    'Venda Real': y_test3.values.flatten(),\n",
        "    'Venda Prevista': y_pred3.flatten()\n",
        "})\n",
        "print(comparacao_df_3)"
      ],
      "metadata": {
        "colab": {
          "base_uri": "https://localhost:8080/"
        },
        "id": "8LW0pmy5bDpe",
        "outputId": "104a15d5-44b3-44e6-d19f-61e5767c6049"
      },
      "execution_count": null,
      "outputs": [
        {
          "output_type": "stream",
          "name": "stdout",
          "text": [
            "Intensidade Solar (W/m²) (x): [1250  750 1000  900  850]\n",
            "Vendas Reais (y): [65 40 52 48 45]\n",
            "Vendas Previstas (y_pred3): [65.4570784  39.89080654 52.67394247 47.5606881  45.00406091]\n",
            "   Intensidade Solar (W/m²)  Venda Real  Venda Prevista\n",
            "0                      1250          65       65.457078\n",
            "1                       750          40       39.890807\n",
            "2                      1000          52       52.673942\n",
            "3                       900          48       47.560688\n",
            "4                       850          45       45.004061\n"
          ]
        }
      ]
    },
    {
      "cell_type": "code",
      "source": [
        "mae3 = mean_absolute_error(y_test3, y_pred3)\n",
        "print(mae3)\n",
        "\n",
        "# Criar um DataFrame para comparação\n",
        "comparacao_df_3 = pd.DataFrame({\n",
        "    'Intensidade Solar (W/m²)': x_test3.values.flatten(),\n",
        "    'Venda Real': y_test3.values.flatten(),\n",
        "    'Venda Prevista': y_pred3.flatten(),\n",
        "    'Diferença Absoluta': np.abs(y_test3.values.flatten() - y_pred3.flatten())\n",
        "})\n",
        "\n",
        "print(comparacao_df_3)"
      ],
      "metadata": {
        "colab": {
          "base_uri": "https://localhost:8080/"
        },
        "id": "dWtxGSxhbDnJ",
        "outputId": "6dbea7c0-a76c-4b56-e934-727e6ddad386"
      },
      "execution_count": null,
      "outputs": [
        {
          "output_type": "stream",
          "name": "stdout",
          "text": [
            "0.3367174280879894\n",
            "   Intensidade Solar (W/m²)  Venda Real  Venda Prevista  Diferença Absoluta\n",
            "0                      1250          65       65.457078            0.457078\n",
            "1                       750          40       39.890807            0.109193\n",
            "2                      1000          52       52.673942            0.673942\n",
            "3                       900          48       47.560688            0.439312\n",
            "4                       850          45       45.004061            0.004061\n"
          ]
        }
      ]
    },
    {
      "cell_type": "code",
      "source": [
        "mse3 = mean_squared_error(y_test3, y_pred3)\n",
        "print(mse3)\n",
        "\n",
        "\n",
        "# Criar um DataFrame para comparação\n",
        "comparacao_df_3 = pd.DataFrame({\n",
        "    'Intensidade Solar (W/m²)': x_test3.values.flatten(),\n",
        "    'Venda Real': y_test3.values.flatten(),\n",
        "    'Venda Prevista': y_pred3.flatten(),\n",
        "    'Diferença Absoluta': np.abs(y_test3.values.flatten() - y_pred3.flatten()),\n",
        "    'Erro Quadrático': (y_test3.values.flatten() - y_pred3.flatten())**2\n",
        "})\n",
        "\n",
        "print(comparacao_df_3)"
      ],
      "metadata": {
        "colab": {
          "base_uri": "https://localhost:8080/"
        },
        "id": "Wf8MlyttbDk7",
        "outputId": "8d0e77ae-ef11-4555-edde-b2f77144bf79"
      },
      "execution_count": null,
      "outputs": [
        {
          "output_type": "stream",
          "name": "stdout",
          "text": [
            "0.1736107527559033\n",
            "   Intensidade Solar (W/m²)  Venda Real  Venda Prevista  Diferença Absoluta  \\\n",
            "0                      1250          65       65.457078            0.457078   \n",
            "1                       750          40       39.890807            0.109193   \n",
            "2                      1000          52       52.673942            0.673942   \n",
            "3                       900          48       47.560688            0.439312   \n",
            "4                       850          45       45.004061            0.004061   \n",
            "\n",
            "   Erro Quadrático  \n",
            "0         0.208921  \n",
            "1         0.011923  \n",
            "2         0.454198  \n",
            "3         0.192995  \n",
            "4         0.000016  \n"
          ]
        }
      ]
    },
    {
      "cell_type": "code",
      "source": [
        "# coeficiente de determinação vai de 0 a 1, quanto mais proximo de 1 for melhor!\n",
        "r2_3 = r2_score(y_test3, y_pred3)\n",
        "print(r2_3)"
      ],
      "metadata": {
        "colab": {
          "base_uri": "https://localhost:8080/"
        },
        "id": "aJW9sA2CbDib",
        "outputId": "486646b9-c7bb-4d7a-bc3f-dcabccee2a0b"
      },
      "execution_count": null,
      "outputs": [
        {
          "output_type": "stream",
          "name": "stdout",
          "text": [
            "0.9975752688162584\n"
          ]
        }
      ]
    },
    {
      "cell_type": "code",
      "source": [
        "# Plotando os dados de treinamento\n",
        "plt.scatter(x_train3, y_train3, color='blue', label='Dados de Treinamento')\n",
        "plt.plot(x_train3, modelo.predict(x_train3), color='red', label='Linha de Regressão')\n",
        "\n",
        "# Plotando os dados de validação e as previsões\n",
        "plt.scatter(x_test3, y_test3, color='green', label='Dados de Validação')\n",
        "plt.scatter(x_test3, y_pred3, color='orange', label='Previsões')\n",
        "\n",
        "plt.xlabel('Intensidade Solar (W/m²)')\n",
        "plt.ylabel('Vendas de chapéus')\n",
        "plt.title('Regressão Linear: Temperatura vs Vendas de Sorvete')\n",
        "plt.legend()\n",
        "plt.show()"
      ],
      "metadata": {
        "colab": {
          "base_uri": "https://localhost:8080/",
          "height": 472
        },
        "id": "53KGWe-EbDek",
        "outputId": "443617e6-3404-415c-f3a7-81177f65910c"
      },
      "execution_count": null,
      "outputs": [
        {
          "output_type": "display_data",
          "data": {
            "text/plain": [
              "<Figure size 640x480 with 1 Axes>"
            ],
            "image/png": "[encoded data removed]"
          },
          "metadata": {}
        }
      ]
    }
  ]
}